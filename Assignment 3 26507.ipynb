{
 "cells": [
  {
   "cell_type": "code",
   "execution_count": 1,
   "id": "a7fe2da7",
   "metadata": {},
   "outputs": [
    {
     "name": "stdout",
     "output_type": "stream",
     "text": [
      "Enter transaction details:D 300 , D 300 , W 200 , D 100\n",
      "Balance: 500\n"
     ]
    }
   ],
   "source": [
    "balance=0\n",
    "def deposit(amount):\n",
    "    global balance\n",
    "    balance=balance+amount\n",
    "\n",
    "def withdraw(amount):\n",
    "    global balance\n",
    "    if(amount>balance):\n",
    "        print(\"Insufficient Balance\")\n",
    "    else:\n",
    "        balance=balance-amount\n",
    "a=input(\"Enter transaction details:\")\n",
    "a1=a.split(\", \")\n",
    "for i in a1:\n",
    "    a2=i.split(\" \")\n",
    "    operation=a2[0]\n",
    "    amount= int(a2[1])\n",
    "    if operation==\"D\":\n",
    "        deposit(amount)\n",
    "    elif operation==\"W\":\n",
    "        withdraw(amount)\n",
    "    else:\n",
    "        print(\"Invalid\")\n",
    "print(\"Balance:\",balance)"
   ]
  },
  {
   "cell_type": "code",
   "execution_count": null,
   "id": "999f44af",
   "metadata": {},
   "outputs": [],
   "source": []
  }
 ],
 "metadata": {
  "kernelspec": {
   "display_name": "Python 3 (ipykernel)",
   "language": "python",
   "name": "python3"
  },
  "language_info": {
   "codemirror_mode": {
    "name": "ipython",
    "version": 3
   },
   "file_extension": ".py",
   "mimetype": "text/x-python",
   "name": "python",
   "nbconvert_exporter": "python",
   "pygments_lexer": "ipython3",
   "version": "3.9.7"
  }
 },
 "nbformat": 4,
 "nbformat_minor": 5
}
