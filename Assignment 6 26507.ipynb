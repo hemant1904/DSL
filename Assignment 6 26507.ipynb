{
 "cells": [
  {
   "cell_type": "code",
   "execution_count": 8,
   "id": "9c04097e",
   "metadata": {},
   "outputs": [
    {
     "name": "stdout",
     "output_type": "stream",
     "text": [
      "Enter number of students:3\n",
      "Enter percentage of 10th std:91\n",
      "Enter percentage of 10th std:72\n",
      "Enter percentage of 10th std:88\n",
      "Given array before sorting:\n",
      "[91, 72, 88]\n",
      "Sorted array:\n",
      "[72, 88, 91]\n"
     ]
    }
   ],
   "source": [
    "list=[]\n",
    "n=int(input(\"Enter number of students:\"))\n",
    "for i in range(0,n):\n",
    "    x=int(input(\"Enter percentage of 10th std:\"))\n",
    "    list.append(x)\n",
    "print(\"Given array before sorting:\")\n",
    "print(list)\n",
    "\n",
    "radixlist=[[],[],[],[],[],[],[],[],[],[]]\n",
    "maxvar=max(list)\n",
    "exp=1\n",
    "\n",
    "while maxvar//exp>0:\n",
    "    while len(list)>0:\n",
    "        val = list.pop()\n",
    "        radixindex = (val // exp) % 10\n",
    "        radixlist[radixindex].append(val)\n",
    "\n",
    "    for bucket in radixlist:\n",
    "        while len(bucket) > 0:\n",
    "            val = bucket.pop()\n",
    "            list.append(val)\n",
    "    exp=exp*10\n",
    "\n",
    "print(\"Sorted array:\")\n",
    "print(list)\n"
   ]
  },
  {
   "cell_type": "code",
   "execution_count": null,
   "id": "71ddf87b",
   "metadata": {},
   "outputs": [],
   "source": []
  }
 ],
 "metadata": {
  "kernelspec": {
   "display_name": "Python 3 (ipykernel)",
   "language": "python",
   "name": "python3"
  },
  "language_info": {
   "codemirror_mode": {
    "name": "ipython",
    "version": 3
   },
   "file_extension": ".py",
   "mimetype": "text/x-python",
   "name": "python",
   "nbconvert_exporter": "python",
   "pygments_lexer": "ipython3",
   "version": "3.9.7"
  }
 },
 "nbformat": 4,
 "nbformat_minor": 5
}
