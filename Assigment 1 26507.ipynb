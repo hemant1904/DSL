{
 "cells": [
  {
   "cell_type": "code",
   "execution_count": 9,
   "id": "f36ddfdf",
   "metadata": {},
   "outputs": [
    {
     "name": "stdout",
     "output_type": "stream",
     "text": [
      "Players playing both Cricket and Badminton are: [2, 3, 6, 7]\n",
      "Players playing either Cricket or Badminton but not both are: [1, 4, 5, 9, 10]\n",
      "Players who play neither Cricket nor Badminton are: [8, 12]\n",
      "Players who play Cricket and Football but not Badminton are: [1, 4, 5, 8, 12]\n"
     ]
    }
   ],
   "source": [
    "#A is for Cricket\n",
    "#B is for Badminton\n",
    "#C is for Football\n",
    "A=[1,2,3,4,5,6,7]\n",
    "B=[2,3,6,7,9,10]\n",
    "C=[2,4,6,8,10,12]\n",
    "\n",
    "D=[]\n",
    "def case_1():\n",
    "    for x in A:\n",
    "        if x in B:\n",
    "            D.append(x)\n",
    "case_1()\n",
    "print(\"Players playing both Cricket and Badminton are:\",D)\n",
    "\n",
    "E=[]\n",
    "def case_2():\n",
    "    for x in A:\n",
    "        if x not in B:\n",
    "            E.append(x)\n",
    "    for x in B:\n",
    "        if x not in A:\n",
    "            E.append(x)\n",
    "case_2()\n",
    "print(\"Players playing either Cricket or Badminton but not both are:\",E)\n",
    "\n",
    "F=[]\n",
    "def case_3():\n",
    "    for x in C:\n",
    "        if x not in A+B:\n",
    "            F.append(x)\n",
    "case_3()\n",
    "print(\"Players who play neither Cricket nor Badminton are:\",F)\n",
    "\n",
    "G=[]\n",
    "H=[]\n",
    "def case_4():\n",
    "    for x in A:\n",
    "        G.append(x)\n",
    "    for x in C:\n",
    "        if x not in G:\n",
    "            G.append(x)\n",
    "    for x in G:\n",
    "        if x not in B:\n",
    "            H.append(x)\n",
    "case_4()\n",
    "print(\"Players who play Cricket and Football but not Badminton are:\",H)"
   ]
  },
  {
   "cell_type": "code",
   "execution_count": null,
   "id": "6b7cfa4f",
   "metadata": {},
   "outputs": [],
   "source": []
  }
 ],
 "metadata": {
  "kernelspec": {
   "display_name": "Python 3 (ipykernel)",
   "language": "python",
   "name": "python3"
  },
  "language_info": {
   "codemirror_mode": {
    "name": "ipython",
    "version": 3
   },
   "file_extension": ".py",
   "mimetype": "text/x-python",
   "name": "python",
   "nbconvert_exporter": "python",
   "pygments_lexer": "ipython3",
   "version": "3.9.7"
  }
 },
 "nbformat": 4,
 "nbformat_minor": 5
}
