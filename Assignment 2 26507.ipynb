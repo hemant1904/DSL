{
 "cells": [
  {
   "cell_type": "code",
   "execution_count": 15,
   "id": "4fcba5a2",
   "metadata": {},
   "outputs": [
    {
     "name": "stdout",
     "output_type": "stream",
     "text": [
      "Enter number of students:5\n",
      "Enter marks of student for FDS out of 30:28\n",
      "Enter marks of student for FDS out of 30:28\n",
      "Enter marks of student for FDS out of 30:12\n",
      "Enter marks of student for FDS out of 30:18\n",
      "Enter marks of student for FDS out of 30:-1\n",
      "Number of absent students is: 1\n",
      "Average of Marks is: 21.5\n",
      "Maximum Marks is: 28\n",
      "Minimum Marks is: 12\n",
      "Mark with highest frequency is: 28\n"
     ]
    }
   ],
   "source": [
    "#INPUT FOR MARKS\n",
    "list=[]\n",
    "n=int(input(\"Enter number of students:\"))\n",
    "for i in range(0,n):\n",
    "    m=int(input(\"Enter marks of student for FDS out of 30:\"))\n",
    "    list.append(m)\n",
    "\n",
    "#ABSENT STUDENT\n",
    "def abs():\n",
    "    count=0\n",
    "    for i in list:\n",
    "        if i==-1:\n",
    "            count=count+1\n",
    "    print(\"Number of absent students is:\",count)\n",
    "abs()\n",
    "\n",
    "#SUM AND AVERAGE OF MARKS\n",
    "def avg():\n",
    "    sum=0\n",
    "    count=0\n",
    "    for i in list:\n",
    "        if i!=-1:\n",
    "            sum=sum+i\n",
    "            count=count+1\n",
    "    avg=sum/count\n",
    "    print(\"Average of Marks is:\",avg)\n",
    "avg()\n",
    "    \n",
    "#MAXIMUM VALUE\n",
    "def maximum():\n",
    "    max=list[0]\n",
    "    for i in list:\n",
    "        if i>max:\n",
    "            max=i\n",
    "    print(\"Maximum Marks is:\",max)\n",
    "maximum()\n",
    "\n",
    "#MINIMUM VALUE\n",
    "def minimum():\n",
    "    min=list[0]\n",
    "    for i in list:\n",
    "        if i==-1:\n",
    "            continue \n",
    "        if i<min:\n",
    "            min=i\n",
    "    print(\"Minimum Marks is:\",min)\n",
    "minimum()\n",
    "\n",
    "#HIGHEST FREQUENCY\n",
    "def freq():\n",
    "    counter = 0\n",
    "    num = list[0]\n",
    "     \n",
    "    for i in list:\n",
    "        current = list.count(i)\n",
    "        if(current> counter):\n",
    "            counter = current\n",
    "            num = i\n",
    "    print(\"Mark with highest frequency is:\",num)\n",
    "freq()"
   ]
  }
 ],
 "metadata": {
  "kernelspec": {
   "display_name": "Python 3 (ipykernel)",
   "language": "python",
   "name": "python3"
  },
  "language_info": {
   "codemirror_mode": {
    "name": "ipython",
    "version": 3
   },
   "file_extension": ".py",
   "mimetype": "text/x-python",
   "name": "python",
   "nbconvert_exporter": "python",
   "pygments_lexer": "ipython3",
   "version": "3.9.7"
  }
 },
 "nbformat": 4,
 "nbformat_minor": 5
}
