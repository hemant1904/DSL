{
 "cells": [
  {
   "cell_type": "code",
   "execution_count": 14,
   "id": "39b97bc6",
   "metadata": {},
   "outputs": [
    {
     "name": "stdout",
     "output_type": "stream",
     "text": [
      "Enter number of students:4\n",
      "Enter percentage of students:92\n",
      "Enter percentage of students:66\n",
      "Enter percentage of students:81\n",
      "Enter percentage of students:73\n",
      "Given array: [92, 66, 81, 73]\n",
      "Using Insertion Sort\n",
      "Sorted array: [66, 73, 81, 92]\n",
      "Using Shell Sort\n",
      "Sorted array: [66, 73, 81, 92]\n"
     ]
    }
   ],
   "source": [
    "list=[]\n",
    "n=int(input(\"Enter number of students:\"))\n",
    "for i in range(0,n):\n",
    "    x=int(input(\"Enter percentage of students:\"))\n",
    "    list.append(x)\n",
    "print(\"Given array:\",list)\n",
    "\n",
    "def insertion_sort(list):\n",
    "    for i in range (1,n):\n",
    "        key=list[i]\n",
    "        j=i-1\n",
    "        while j>=0 and key<list[j]:\n",
    "            list[j+1]=list[j]\n",
    "            j=j-1\n",
    "        list[j+1]=key\n",
    "insertion_sort(list)\n",
    "print(\"Using Insertion Sort\")\n",
    "print(\"Sorted array:\",list)\n",
    "\n",
    "def shell_sort(list,n):\n",
    "    gap=n//2\n",
    "    while gap>0:\n",
    "        for i in range(gap,n):\n",
    "            temp=list[i]\n",
    "            j=i\n",
    "            while j>=gap and list[j-gap]>temp:\n",
    "                list[j]=list[j-gap]\n",
    "                j=j-gap\n",
    "            list[j]=temp\n",
    "        gap=gap//2\n",
    "shell_sort(list,n)\n",
    "print(\"Using Shell Sort\")\n",
    "print(\"Sorted array:\",list)"
   ]
  },
  {
   "cell_type": "code",
   "execution_count": null,
   "id": "e47d43a8",
   "metadata": {},
   "outputs": [],
   "source": []
  }
 ],
 "metadata": {
  "kernelspec": {
   "display_name": "Python 3 (ipykernel)",
   "language": "python",
   "name": "python3"
  },
  "language_info": {
   "codemirror_mode": {
    "name": "ipython",
    "version": 3
   },
   "file_extension": ".py",
   "mimetype": "text/x-python",
   "name": "python",
   "nbconvert_exporter": "python",
   "pygments_lexer": "ipython3",
   "version": "3.9.7"
  }
 },
 "nbformat": 4,
 "nbformat_minor": 5
}
