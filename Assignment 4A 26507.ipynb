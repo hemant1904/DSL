{
 "cells": [
  {
   "cell_type": "code",
   "execution_count": 32,
   "id": "ce44cb79",
   "metadata": {},
   "outputs": [
    {
     "name": "stdout",
     "output_type": "stream",
     "text": [
      "Enter number of students who attended training: 4\n",
      "Enter roll numbers of students: 12\n",
      "Enter roll numbers of students: 23\n",
      "Enter roll numbers of students: 07\n",
      "Enter roll numbers of students: 18\n",
      "Enter the student to be searched: 5\n",
      "Using Linear Search\n",
      "Roll number 5 has not attended training\n",
      "Using Sentinel Search\n",
      "Roll number 5 has not attended training\n"
     ]
    }
   ],
   "source": [
    "list=[]\n",
    "n=int(input(\"Enter number of students who attended training: \"))\n",
    "for x in range (0,n): \n",
    "    a=int(input(\"Enter roll numbers of students: \"))\n",
    "    list.append(a)\n",
    "key=int(input(\"Enter the student to be searched: \"))\n",
    "\n",
    "#Linear Search\n",
    "def linear_search():\n",
    "    for x in list:\n",
    "        if x==key:\n",
    "            return x\n",
    "        return -1\n",
    "res=linear_search()\n",
    "print(\"Using Linear Search\")\n",
    "if res==-1:\n",
    "    print(\"Roll number\",key,\"has not attended training\")\n",
    "else:\n",
    "    print(\"Roll number\",key,\"has attended training\")\n",
    "    \n",
    "#Sentinel Search\n",
    "def sentinel_search():\n",
    "    last=list[n-1]\n",
    "    list[n-1]=key\n",
    "    i=0\n",
    "    while list[i]!=key:\n",
    "        i=i+1\n",
    "    list[n-1]=last\n",
    "    print(\"Using Sentinel Search\")\n",
    "    if((i<n-1) or (list[n-1]==key)):\n",
    "        print(\"Roll number\",key,\"has attended training\")\n",
    "    else:\n",
    "        print(\"Roll number\",key,\"has not attended training\")\n",
    "sentinel_search()"
   ]
  }
 ],
 "metadata": {
  "kernelspec": {
   "display_name": "Python 3 (ipykernel)",
   "language": "python",
   "name": "python3"
  },
  "language_info": {
   "codemirror_mode": {
    "name": "ipython",
    "version": 3
   },
   "file_extension": ".py",
   "mimetype": "text/x-python",
   "name": "python",
   "nbconvert_exporter": "python",
   "pygments_lexer": "ipython3",
   "version": "3.9.7"
  }
 },
 "nbformat": 4,
 "nbformat_minor": 5
}
