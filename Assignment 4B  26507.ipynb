{
 "cells": [
  {
   "cell_type": "code",
   "execution_count": 3,
   "id": "d345dff3",
   "metadata": {},
   "outputs": [
    {
     "name": "stdout",
     "output_type": "stream",
     "text": [
      "Enter number of students who attended training: 3\n",
      "Enter roll numbers of students: 12\n",
      "Enter roll numbers of students: 13\n",
      "Enter roll numbers of students: 14\n",
      "Enter the student to be searched: 12\n",
      "Using Binary Search\n",
      "Roll number 12 has attended training\n",
      "Using Fibonacci Search\n",
      "Roll number 12 has attended training\n"
     ]
    }
   ],
   "source": [
    "list=[]\n",
    "n=int(input(\"Enter number of students who attended training: \"))\n",
    "for x in range (0,n): \n",
    "    a=int(input(\"Enter roll numbers of students: \"))\n",
    "    list.append(a)\n",
    "key=int(input(\"Enter the student to be searched: \"))\n",
    "\n",
    "\n",
    "\n",
    "#Binary Search\n",
    "def binary_search(list,low,high,key):\n",
    "    print(\"Using Binary Search\")\n",
    "    while low<=high:\n",
    "        mid=(low+(high))//2\n",
    "        if (list[mid]==key):\n",
    "            print(\"Roll number\",key,\"has attended training\")\n",
    "            return\n",
    "        elif (list[mid]<key):\n",
    "            low=mid+1\n",
    "        else:\n",
    "            high=mid-1\n",
    "    print(\"Roll number\",key,\"has not attended training\")\n",
    "    return\n",
    "binary_search(list,0,n-1,key)\n",
    "\n",
    "#Fibonacci Search\n",
    "def fibonacci_search(list,n,key):\n",
    "    m2 = 0   \n",
    "    m1 = 1   \n",
    "    m = m2 + m1    \n",
    "    while (m < n): \n",
    "        m2 = m1 \n",
    "        m1 = m \n",
    "        m = m2 + m1 \n",
    "    offset = -1\n",
    "    while (m > 1): \n",
    "        i = min(offset+m2, n-1)  \n",
    "        if (list[i] < key): \n",
    "            m = m1 \n",
    "            m1 = m2 \n",
    "            m2 = m - m1 \n",
    "            offset = i \n",
    "        elif (list[i] > key): \n",
    "            m = m2 \n",
    "            m1 = m1 - m2 \n",
    "            m2 = m - m1 \n",
    "        else:\n",
    "            print(\"Using Fibonacci Search\")\n",
    "            print (\"Roll number\",key,\"has attended training\")\n",
    "            return \n",
    "    if(m1 and list[n-1] == key): \n",
    "        return n-1\n",
    "    print(\"Using Fibonacci Search\")\n",
    "    print(\"Roll number\",key,\"has not attended training\")\n",
    "    return\n",
    "fibonacci_search(list, n, key)"
   ]
  },
  {
   "cell_type": "code",
   "execution_count": null,
   "id": "50b0c70e",
   "metadata": {},
   "outputs": [],
   "source": []
  }
 ],
 "metadata": {
  "kernelspec": {
   "display_name": "Python 3 (ipykernel)",
   "language": "python",
   "name": "python3"
  },
  "language_info": {
   "codemirror_mode": {
    "name": "ipython",
    "version": 3
   },
   "file_extension": ".py",
   "mimetype": "text/x-python",
   "name": "python",
   "nbconvert_exporter": "python",
   "pygments_lexer": "ipython3",
   "version": "3.9.7"
  }
 },
 "nbformat": 4,
 "nbformat_minor": 5
}
